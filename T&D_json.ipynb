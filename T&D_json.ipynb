{
  "nbformat": 4,
  "nbformat_minor": 0,
  "metadata": {
    "colab": {
      "provenance": [],
      "authorship_tag": "ABX9TyNDx8mGc+O+Fc8ZiD3vdhwV",
      "include_colab_link": true
    },
    "kernelspec": {
      "name": "python3",
      "display_name": "Python 3"
    },
    "language_info": {
      "name": "python"
    }
  },
  "cells": [
    {
      "cell_type": "markdown",
      "metadata": {
        "id": "view-in-github",
        "colab_type": "text"
      },
      "source": [
        "<a href=\"https://colab.research.google.com/github/DiogoMondin/json-table-handling/blob/main/T%26D_json.ipynb\" target=\"_parent\"><img src=\"https://colab.research.google.com/assets/colab-badge.svg\" alt=\"Open In Colab\"/></a>"
      ]
    },
    {
      "cell_type": "markdown",
      "source": [
        "# Importações"
      ],
      "metadata": {
        "id": "FJgvGNWbPmjU"
      }
    },
    {
      "cell_type": "code",
      "source": [
        "!apt-get install openjdk-11-jdk -qq > /dev/null\n",
        "!pip install -q pyspark"
      ],
      "metadata": {
        "id": "kTraBGjcZawh"
      },
      "execution_count": 49,
      "outputs": []
    },
    {
      "cell_type": "code",
      "source": [
        "import requests\n",
        "import json\n",
        "from pyspark.sql import SparkSession\n",
        "import pyspark.sql.types as T\n",
        "import pyspark.sql.functions as F"
      ],
      "metadata": {
        "collapsed": true,
        "id": "D8r-AI3nMF6q"
      },
      "execution_count": 64,
      "outputs": []
    },
    {
      "cell_type": "markdown",
      "source": [
        "# Download JSON"
      ],
      "metadata": {
        "id": "nyveANZHerGZ"
      }
    },
    {
      "cell_type": "code",
      "source": [
        "url = 'https://health.data.ny.gov/api/views/jxy9-yhdk/rows.json'\n",
        "response = requests.get(url)\n",
        "data = response.json()"
      ],
      "metadata": {
        "id": "J3Ke6ziKOZCD"
      },
      "execution_count": 45,
      "outputs": []
    },
    {
      "cell_type": "markdown",
      "source": [
        "# Investigação das colunas"
      ],
      "metadata": {
        "id": "-0PdzU8Devu8"
      }
    },
    {
      "cell_type": "code",
      "source": [
        "columns_meta = data['meta']['view']['columns']\n",
        "column_names = [col['name'] for col in columns_meta]\n",
        "\n",
        "print(column_names)"
      ],
      "metadata": {
        "id": "MwWO-r7ROcYs",
        "colab": {
          "base_uri": "https://localhost:8080/"
        },
        "outputId": "43f43ec9-5e62-417f-8054-4ba37262c381"
      },
      "execution_count": 52,
      "outputs": [
        {
          "output_type": "stream",
          "name": "stdout",
          "text": [
            "['sid', 'id', 'position', 'created_at', 'created_meta', 'updated_at', 'updated_meta', 'meta', 'Year', 'First Name', 'County', 'Sex', 'Count']\n"
          ]
        }
      ]
    },
    {
      "cell_type": "code",
      "source": [
        "rows = data['data']\n",
        "\n",
        "data_dicts = [dict(zip(column_names, row)) for row in rows]"
      ],
      "metadata": {
        "id": "aWvZOJ4XZ3sf"
      },
      "execution_count": 57,
      "outputs": []
    },
    {
      "cell_type": "code",
      "source": [
        "spark = SparkSession.builder \\\n",
        "    .appName(\"JSON Baby Names\") \\\n",
        "    .getOrCreate()"
      ],
      "metadata": {
        "id": "eNix_IXIagzP"
      },
      "execution_count": 58,
      "outputs": []
    },
    {
      "cell_type": "markdown",
      "source": [
        "# Pré-definição de schema (inicialmente em StringType)"
      ],
      "metadata": {
        "id": "qWCJ0QVne-3P"
      }
    },
    {
      "cell_type": "code",
      "source": [
        "schema = T.StructType([\n",
        "    T.StructField(\"sid\",            T.StringType(), True),\n",
        "    T.StructField(\"id\",             T.StringType(), True),\n",
        "    T.StructField(\"position\",       T.StringType(), True),\n",
        "    T.StructField(\"created_at\",     T.StringType(), True),\n",
        "    T.StructField(\"created_meta\",   T.StringType(), True),\n",
        "    T.StructField(\"updated_at\",     T.StringType(), True),\n",
        "    T.StructField(\"updated_meta\",   T.StringType(), True),\n",
        "    T.StructField(\"meta\",           T.StringType(), True),\n",
        "    T.StructField(\"Year\",           T.StringType(), True),\n",
        "    T.StructField(\"First Name\",     T.StringType(), True),\n",
        "    T.StructField(\"County\",         T.StringType(), True),\n",
        "    T.StructField(\"Sex\",            T.StringType(), True),\n",
        "    T.StructField(\"Count\",          T.StringType(), True),\n",
        "])\n",
        "\n",
        "baby_names_df = spark.createDataFrame(data_dicts, schema=schema)"
      ],
      "metadata": {
        "id": "u9FrApMsbejn"
      },
      "execution_count": 77,
      "outputs": []
    },
    {
      "cell_type": "markdown",
      "source": [
        "# Formatação final das colunas e criação de temp view"
      ],
      "metadata": {
        "id": "HXV8i2FOfJl9"
      }
    },
    {
      "cell_type": "code",
      "source": [
        "baby_names_df_formated = (\n",
        "    baby_names_df\n",
        "    .withColumn(\"sid\",            F.col(\"sid\").cast(\"string\"))\n",
        "    .withColumn(\"id\",             F.col(\"id\").cast(\"string\"))\n",
        "    .withColumn(\"position\",       F.col(\"position\").cast(\"int\"))\n",
        "    .withColumn(\"created_at\",     F.from_unixtime(F.col(\"created_at\")))\n",
        "    .withColumn(\"updated_at\",   F.from_unixtime(F.col(\"updated_at\")))\n",
        "    .withColumn(\"meta\",           F.col(\"meta\").cast(\"string\"))\n",
        "    .withColumn(\"Year\",           F.col(\"Year\").cast(\"int\"))\n",
        "    .withColumn(\"First Name\",     F.col(\"First Name\").cast(\"string\"))\n",
        "    .withColumn(\"County\",         F.col(\"County\").cast(\"string\"))\n",
        "    .withColumn(\"Sex\",            F.col(\"Sex\").cast(\"string\"))\n",
        "    .withColumn(\"Count\",          F.col(\"Count\").cast(\"int\"))\n",
        "\n",
        "    .drop(\"created_meta\") # NULL values\n",
        "    .drop(\"updated_meta\") # NULL values\n",
        ")\n",
        "\n",
        "baby_names_df_formated.createOrReplaceTempView(\"birth_data\")\n",
        "\n",
        "baby_names_df_formated.show()"
      ],
      "metadata": {
        "colab": {
          "base_uri": "https://localhost:8080/"
        },
        "id": "8Tn6MfQTedu8",
        "outputId": "1caa4fc7-6113-4ca9-e308-b6d96f895908"
      },
      "execution_count": 80,
      "outputs": [
        {
          "output_type": "stream",
          "name": "stdout",
          "text": [
            "+------------------+--------------------+--------+-------------------+-------------------+----+----+----------+------+---+-----+\n",
            "|               sid|                  id|position|         created_at|         updated_at|meta|Year|First Name|County|Sex|Count|\n",
            "+------------------+--------------------+--------+-------------------+-------------------+----+----+----------+------+---+-----+\n",
            "|row-ddjv_cm93_6icc|00000000-0000-000...|       0|2025-04-25 19:03:18|2025-04-25 19:03:18| { }|2022|    OLIVIA|Albany|  F|   16|\n",
            "|row-dbx8_dtbn-e5i4|00000000-0000-000...|       0|2025-04-25 19:03:18|2025-04-25 19:03:18| { }|2022|    AMELIA|Albany|  F|   15|\n",
            "|row-7bm2-ibrt_zigs|00000000-0000-000...|       0|2025-04-25 19:03:18|2025-04-25 19:03:18| { }|2022|     AVERY|Albany|  F|   12|\n",
            "|row-twbr~qzdf.jnfm|00000000-0000-000...|       0|2025-04-25 19:03:18|2025-04-25 19:03:18| { }|2022|      EMMA|Albany|  F|   11|\n",
            "|row-hxpw_hv5d.a7xc|00000000-0000-000...|       0|2025-04-25 19:03:18|2025-04-25 19:03:18| { }|2022| CHARLOTTE|Albany|  F|   11|\n",
            "|row-js7z_zax3_7jwq|00000000-0000-000...|       0|2025-04-25 19:03:18|2025-04-25 19:03:18| { }|2022|     CHLOE|Albany|  F|   11|\n",
            "|row-rp4d~vbca-bi5q|00000000-0000-000...|       0|2025-04-25 19:03:18|2025-04-25 19:03:18| { }|2022|    SOPHIA|Albany|  F|    8|\n",
            "|row-eynv-94ax.jwpt|00000000-0000-000...|       0|2025-04-25 19:03:18|2025-04-25 19:03:18| { }|2022|      CORA|Albany|  F|    8|\n",
            "|row-6zwf.whw5.qpfr|00000000-0000-000...|       0|2025-04-25 19:03:18|2025-04-25 19:03:18| { }|2022|       MIA|Albany|  F|    7|\n",
            "|row-vtb8_j2vg-fhgx|00000000-0000-000...|       0|2025-04-25 19:03:18|2025-04-25 19:03:18| { }|2022|      LUNA|Albany|  F|    7|\n",
            "|row-vuyu.meav-7ngj|00000000-0000-000...|       0|2025-04-25 19:03:18|2025-04-25 19:03:18| { }|2022|      ELLA|Albany|  F|    7|\n",
            "|row-bj6j.xn72-6tuj|00000000-0000-000...|       0|2025-04-25 19:03:18|2025-04-25 19:03:18| { }|2022|    AURORA|Albany|  F|    7|\n",
            "|row-bfwz.2ug8~y4p4|00000000-0000-000...|       0|2025-04-25 19:03:18|2025-04-25 19:03:18| { }|2022|      MAYA|Albany|  F|    7|\n",
            "|row-g94i.nmqu~b77m|00000000-0000-000...|       0|2025-04-25 19:03:18|2025-04-25 19:03:18| { }|2022|    EMILIA|Albany|  F|    7|\n",
            "|row-ktni.s7mw-ses5|00000000-0000-000...|       0|2025-04-25 19:03:18|2025-04-25 19:03:18| { }|2022|    WILLOW|Albany|  F|    7|\n",
            "|row-p6bk~hver.t3un|00000000-0000-000...|       0|2025-04-25 19:03:18|2025-04-25 19:03:18| { }|2022|    ELOISE|Albany|  F|    7|\n",
            "|row-kjp3.3iwg.kh3x|00000000-0000-000...|       0|2025-04-25 19:03:18|2025-04-25 19:03:18| { }|2022|   DELILAH|Albany|  F|    7|\n",
            "|row-uei6_87n4_w4wt|00000000-0000-000...|       0|2025-04-25 19:03:18|2025-04-25 19:03:18| { }|2022|   KINSLEY|Albany|  F|    7|\n",
            "|row-uzqx~g3h4~nzdr|00000000-0000-000...|       0|2025-04-25 19:03:18|2025-04-25 19:03:18| { }|2022|       AVA|Albany|  F|    6|\n",
            "|row-gwd9.ig9e-h66b|00000000-0000-000...|       0|2025-04-25 19:03:18|2025-04-25 19:03:18| { }|2022|   MADISON|Albany|  F|    6|\n",
            "+------------------+--------------------+--------+-------------------+-------------------+----+----+----------+------+---+-----+\n",
            "only showing top 20 rows\n",
            "\n"
          ]
        }
      ]
    }
  ]
}